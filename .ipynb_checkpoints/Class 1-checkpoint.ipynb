{
 "cells": [
  {
   "cell_type": "code",
   "execution_count": 1,
   "id": "615d108d",
   "metadata": {},
   "outputs": [
    {
     "name": "stdout",
     "output_type": "stream",
     "text": [
      "H\n",
      "e\n",
      "l\n",
      "l\n",
      "o\n",
      ",\n",
      " \n",
      "w\n",
      "o\n",
      "r\n",
      "l\n",
      "d\n",
      "!\n"
     ]
    }
   ],
   "source": [
    "for letter in \"Hello, world!\":\n",
    "    print(letter)"
   ]
  },
  {
   "cell_type": "markdown",
   "id": "e1ea5150",
   "metadata": {},
   "source": [
    "# Problem 1\n",
    "\n",
    "### Given two strings (string_a and string_b) let's check whether or not these are anagrams of each other given the following criteria:\n",
    "\n",
    "#### Two strings are anagrams of each other if all conditions below are met:\n",
    "1. They must be exactly the same length.\n",
    "2. The must use the exact same characters. (no more, no less)\n",
    "\n",
    "`Example: cars and scar, heart and earth, etc.`"
   ]
  },
  {
   "cell_type": "code",
   "execution_count": 2,
   "id": "13efc205",
   "metadata": {},
   "outputs": [],
   "source": [
    "# Instructions: populate the function below, so that it returns True if the parameters are anagrams,\n",
    "# False otherwise.\n",
    "\n",
    "def are_anagrams(string_a, string_b):\n",
    "    pass #remove pass when you've implemented the solution\n",
    "\n",
    "# without syntactic sugar"
   ]
  },
  {
   "cell_type": "code",
   "execution_count": 5,
   "id": "e7054364",
   "metadata": {},
   "outputs": [],
   "source": [
    "# BAD SOLUTION\n",
    "\n",
    "def bad_are_anagrams(string_a, string_b):\n",
    "    return sorted(string_a) == sorted(string_b)"
   ]
  },
  {
   "cell_type": "code",
   "execution_count": 6,
   "id": "730fccd4",
   "metadata": {},
   "outputs": [
    {
     "data": {
      "text/plain": [
       "True"
      ]
     },
     "execution_count": 6,
     "metadata": {},
     "output_type": "execute_result"
    }
   ],
   "source": [
    "bad_are_anagrams(\"cars\",\"scar\")"
   ]
  },
  {
   "cell_type": "code",
   "execution_count": 11,
   "id": "4193a668",
   "metadata": {},
   "outputs": [],
   "source": [
    "def are_anagrams(string_a, string_b):\n",
    "    if len(string_a) != len(string_b):\n",
    "        return False\n",
    "    dict_a = {}\n",
    "    dict_b = {}\n",
    "    for i in range(len(string_a)):\n",
    "        if string_a[i] in dict_a.keys():\n",
    "            dict_a[string_a[i]] += 1\n",
    "        else:\n",
    "            dict_a[string_a[i]] = 1\n",
    "        if string_b[i] in dict_b.keys():\n",
    "            dict_b[string_b[i]] += 1\n",
    "        else:\n",
    "            dict_b[string_b[i]] = 1\n",
    "    return dict_a == dict_b"
   ]
  },
  {
   "cell_type": "code",
   "execution_count": 12,
   "id": "5032ed9c",
   "metadata": {},
   "outputs": [
    {
     "data": {
      "text/plain": [
       "True"
      ]
     },
     "execution_count": 12,
     "metadata": {},
     "output_type": "execute_result"
    }
   ],
   "source": [
    "are_anagrams(\"scar\", \"cars\")"
   ]
  },
  {
   "cell_type": "code",
   "execution_count": 13,
   "id": "1f18e636",
   "metadata": {},
   "outputs": [
    {
     "data": {
      "text/plain": [
       "True"
      ]
     },
     "execution_count": 13,
     "metadata": {},
     "output_type": "execute_result"
    }
   ],
   "source": [
    "are_anagrams(\"abccc\", \"ccabc\")"
   ]
  },
  {
   "cell_type": "code",
   "execution_count": 14,
   "id": "dee106ea",
   "metadata": {},
   "outputs": [],
   "source": [
    "# In the harry potter series\n",
    "# The villain's name is \"Lord Voldemort\"; He chose this name because\n",
    "# it is an anagram of his name \"Tom Riddle\" from the phrase:\n",
    "# \"I am Lord Voldemort\" which is an anagram of \"Tom Marvolo Riddle\"\n",
    "\n",
    "# This extension is the homework assignment.\n",
    "# Your function should return True for the example shown above."
   ]
  },
  {
   "cell_type": "code",
   "execution_count": 15,
   "id": "a6882de3",
   "metadata": {},
   "outputs": [],
   "source": [
    "def are_anagrams(string_a, string_b):\n",
    "    string_a = string_a.lower().replace(\" \", \"\")\n",
    "    string_b = string_b.lower().replace(\" \", \"\")\n",
    "    if len(string_a) != len(string_b):\n",
    "        return False\n",
    "    dict_a = {}\n",
    "    dict_b = {}\n",
    "    for i in range(len(string_a)):\n",
    "        if string_a[i] in dict_a.keys():\n",
    "            dict_a[string_a[i]] += 1\n",
    "        else:\n",
    "            dict_a[string_a[i]] = 1\n",
    "        if string_b[i] in dict_b.keys():\n",
    "            dict_b[string_b[i]] += 1\n",
    "        else:\n",
    "            dict_b[string_b[i]] = 1\n",
    "    return dict_a == dict_b"
   ]
  },
  {
   "cell_type": "code",
   "execution_count": 19,
   "id": "321d96bf",
   "metadata": {},
   "outputs": [
    {
     "data": {
      "text/plain": [
       "True"
      ]
     },
     "execution_count": 19,
     "metadata": {},
     "output_type": "execute_result"
    }
   ],
   "source": [
    "are_anagrams(\"I am Lord Voldemort\", \"Tom Marvolo Riddle\")"
   ]
  },
  {
   "cell_type": "code",
   "execution_count": null,
   "id": "e61c184b",
   "metadata": {},
   "outputs": [],
   "source": []
  }
 ],
 "metadata": {
  "kernelspec": {
   "display_name": "Python 3 (ipykernel)",
   "language": "python",
   "name": "python3"
  },
  "language_info": {
   "codemirror_mode": {
    "name": "ipython",
    "version": 3
   },
   "file_extension": ".py",
   "mimetype": "text/x-python",
   "name": "python",
   "nbconvert_exporter": "python",
   "pygments_lexer": "ipython3",
   "version": "3.8.10"
  }
 },
 "nbformat": 4,
 "nbformat_minor": 5
}
