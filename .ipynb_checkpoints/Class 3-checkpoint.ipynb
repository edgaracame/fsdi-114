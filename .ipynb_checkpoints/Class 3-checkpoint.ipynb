{
 "cells": [
  {
   "cell_type": "code",
   "execution_count": 77,
   "id": "48d56e43",
   "metadata": {},
   "outputs": [],
   "source": [
    "class Node:\n",
    "    def __init__(self, data):\n",
    "        self.data = data\n",
    "        self.above = None\n",
    "        \n",
    "class Stack:\n",
    "    def __init__(self):\n",
    "        self.base = None\n",
    "        \n",
    "    def push(self, item):\n",
    "        if not self.base:\n",
    "            self.base = Node(item)\n",
    "        else:\n",
    "            current = self.base\n",
    "            while current.above: # while current.above != None\n",
    "                current = current.above\n",
    "            current.above = Node(item)\n",
    "            \n",
    "    def pop(self):\n",
    "        if not self.base:\n",
    "            raise EmptyStackException(\"There's is nothing to delete\")\n",
    "        if not self.base.above:\n",
    "            data = self.base.data\n",
    "            self.base = None\n",
    "            return data\n",
    "        current = self.base\n",
    "        previous = None\n",
    "        while current.above:\n",
    "            previous = current\n",
    "            current = current.above\n",
    "        data = current.data\n",
    "        previous.above = None\n",
    "        return data\n",
    "        \n",
    "    def is_empty(self):\n",
    "        if not self.base:\n",
    "            return True\n",
    "        return False\n",
    "    \n",
    "#     def size(self):\n",
    "#         pass\n",
    "    \n",
    "#     def peek(self):\n",
    "#         pass"
   ]
  },
  {
   "cell_type": "code",
   "execution_count": 79,
   "id": "87f0c953",
   "metadata": {},
   "outputs": [],
   "source": [
    "def invert(mystring):\n",
    "    stack = Stack()\n",
    "    out = \"\"\n",
    "    for letter in mystring:\n",
    "        stack.push(letter)\n",
    "    while not stack.is_empty():\n",
    "        out += stack.pop()\n",
    "    return out"
   ]
  },
  {
   "cell_type": "code",
   "execution_count": 82,
   "id": "5c7c2b94",
   "metadata": {},
   "outputs": [
    {
     "data": {
      "text/plain": [
       "'ragdE'"
      ]
     },
     "execution_count": 82,
     "metadata": {},
     "output_type": "execute_result"
    }
   ],
   "source": [
    "invert(\"Edgar\")"
   ]
  }
 ],
 "metadata": {
  "kernelspec": {
   "display_name": "Python 3 (ipykernel)",
   "language": "python",
   "name": "python3"
  },
  "language_info": {
   "codemirror_mode": {
    "name": "ipython",
    "version": 3
   },
   "file_extension": ".py",
   "mimetype": "text/x-python",
   "name": "python",
   "nbconvert_exporter": "python",
   "pygments_lexer": "ipython3",
   "version": "3.8.10"
  }
 },
 "nbformat": 4,
 "nbformat_minor": 5
}
