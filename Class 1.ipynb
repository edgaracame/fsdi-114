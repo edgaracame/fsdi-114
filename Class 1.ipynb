{
 "cells": [
  {
   "cell_type": "code",
   "execution_count": 1,
   "id": "615d108d",
   "metadata": {},
   "outputs": [
    {
     "name": "stdout",
     "output_type": "stream",
     "text": [
      "H\n",
      "e\n",
      "l\n",
      "l\n",
      "o\n",
      ",\n",
      " \n",
      "w\n",
      "o\n",
      "r\n",
      "l\n",
      "d\n",
      "!\n"
     ]
    }
   ],
   "source": [
    "for letter in \"Hello, world!\":\n",
    "    print(letter)"
   ]
  },
  {
   "cell_type": "markdown",
   "id": "e1ea5150",
   "metadata": {},
   "source": [
    "# Problem 1\n",
    "\n",
    "### Given two strings (string_a and string_b) let's check whether or not these are anagrams of each other given the following criteria:\n",
    "\n",
    "#### Two strings are anagrams of each other if all conditions below are met:\n",
    "1. They must be exactly the same length.\n",
    "2. The must use the exact same characters. (no more, no less)\n",
    "\n",
    "`Example: cars and scar, heart and earth, etc.`"
   ]
  },
  {
   "cell_type": "code",
   "execution_count": 2,
   "id": "13efc205",
   "metadata": {},
   "outputs": [],
   "source": [
    "# Instructions: populate the function below, so that it returns True if the parameters are anagrams,\n",
    "# False otherwise.\n",
    "\n",
    "def are_anagrams(string_a, string_b):\n",
    "    pass #remove pass when you've implemented the solution"
   ]
  },
  {
   "cell_type": "code",
   "execution_count": null,
   "id": "1d98f86f",
   "metadata": {},
   "outputs": [],
   "source": []
  }
 ],
 "metadata": {
  "kernelspec": {
   "display_name": "Python 3 (ipykernel)",
   "language": "python",
   "name": "python3"
  },
  "language_info": {
   "codemirror_mode": {
    "name": "ipython",
    "version": 3
   },
   "file_extension": ".py",
   "mimetype": "text/x-python",
   "name": "python",
   "nbconvert_exporter": "python",
   "pygments_lexer": "ipython3",
   "version": "3.8.10"
  }
 },
 "nbformat": 4,
 "nbformat_minor": 5
}
