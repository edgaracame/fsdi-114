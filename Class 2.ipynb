{
 "cells": [
  {
   "cell_type": "code",
   "execution_count": 1,
   "id": "46553f07",
   "metadata": {},
   "outputs": [],
   "source": [
    "# This is an example of a stack using built-in data structures\n",
    "# User Defined Data Structure\n",
    "\n",
    "class Stack:\n",
    "    def __init__(self):\n",
    "        self.items = []\n",
    "        \n",
    "    def push(self, item):\n",
    "        self.items.append(item)\n",
    "        \n",
    "    def pop(self):\n",
    "        return self.items.pop()\n",
    "    \n",
    "    def is_empty(self):\n",
    "        return self.items == []\n",
    "    \n",
    "    def size(self):\n",
    "        return len(self.items)\n",
    "    \n",
    "    def peek(self):\n",
    "        return self.items[len(self.items) - 1]"
   ]
  },
  {
   "cell_type": "markdown",
   "id": "0b9562d9",
   "metadata": {},
   "source": [
    "# Problem 2: Invert a String\n",
    "\n",
    "### Stack narutally allow us to invert a sequence of elements if we sequentially push them onto our stack and sequentially pop them from our stack.\n",
    "\n",
    "#### Use our stack class above to invert a string such that:\n",
    "\n",
    "```\n",
    "reverse(\"Edgar\") returns \"ragdE\"\n",
    "reverse(\"racecar\") returns \"racecar\"\n",
    "reverse(\"AbCdE\") returns \"EdCbA\"\n",
    "```"
   ]
  },
  {
   "cell_type": "code",
   "execution_count": 33,
   "id": "410af708",
   "metadata": {},
   "outputs": [
    {
     "name": "stdout",
     "output_type": "stream",
     "text": [
      "ragdE\n",
      "racecar\n",
      "EdCbA\n"
     ]
    }
   ],
   "source": [
    "def reverse(mystring):\n",
    "    stack = Stack()\n",
    "    mirror = \"\"\n",
    "    for letter in mystring:\n",
    "        stack.push(letter)\n",
    "    while stack.is_empty() != True:\n",
    "        mirror = mirror + stack.pop()\n",
    "    return mirror\n",
    "\n",
    "print(reverse(\"Edgar\"))\n",
    "print(reverse(\"racecar\"))\n",
    "print(reverse(\"AbCdE\"))"
   ]
  },
  {
   "cell_type": "code",
   "execution_count": 37,
   "id": "05116cf2",
   "metadata": {},
   "outputs": [],
   "source": [
    "class Queue:\n",
    "    def __init__(self):\n",
    "        self.items = []\n",
    "        \n",
    "    def enqueue(self, item):\n",
    "        self.items.insert(0, item)\n",
    "        \n",
    "    def dequeue(self):\n",
    "        return self.items.pop()\n",
    "    \n",
    "    def is_empty(self):\n",
    "        return self.items == []\n",
    "    \n",
    "    def size(self):\n",
    "        return len(self.item)"
   ]
  },
  {
   "cell_type": "code",
   "execution_count": 40,
   "id": "c43ac667",
   "metadata": {},
   "outputs": [],
   "source": [
    "def square_queue(elements):\n",
    "    queue = Queue()\n",
    "    for element in elements:\n",
    "        queue.enqueue(element)\n",
    "    while not queue.is_empty():\n",
    "        datum = queue.dequeue()\n",
    "        print(\"%s squared is %s\" % (datum, datum**2))"
   ]
  },
  {
   "cell_type": "code",
   "execution_count": 41,
   "id": "09d8bfa7",
   "metadata": {
    "scrolled": true
   },
   "outputs": [
    {
     "name": "stdout",
     "output_type": "stream",
     "text": [
      "1 squared is 1\n",
      "2 squared is 4\n",
      "3 squared is 9\n",
      "4 squared is 16\n",
      "5 squared is 25\n"
     ]
    }
   ],
   "source": [
    "square_queue([1, 2, 3, 4, 5])"
   ]
  },
  {
   "cell_type": "code",
   "execution_count": 42,
   "id": "76aa3468",
   "metadata": {},
   "outputs": [
    {
     "name": "stdout",
     "output_type": "stream",
     "text": [
      "5\n"
     ]
    }
   ],
   "source": [
    "# pass by value\n",
    "\n",
    "x = 5\n",
    "y = x\n",
    "\n",
    "x += 1\n",
    "\n",
    "print(y)"
   ]
  },
  {
   "cell_type": "code",
   "execution_count": 43,
   "id": "ff1adeca",
   "metadata": {},
   "outputs": [
    {
     "name": "stdout",
     "output_type": "stream",
     "text": [
      "[1, 2, 3, 4]\n"
     ]
    }
   ],
   "source": [
    "# pass by reference\n",
    "\n",
    "x = [1, 2, 3]\n",
    "y = x\n",
    "\n",
    "x.append(4)\n",
    "\n",
    "print(y)"
   ]
  },
  {
   "cell_type": "code",
   "execution_count": 46,
   "id": "44108881",
   "metadata": {},
   "outputs": [],
   "source": [
    "class Node:\n",
    "    def __init__(self, data):\n",
    "        self.data = data\n",
    "        self.above = None"
   ]
  }
 ],
 "metadata": {
  "kernelspec": {
   "display_name": "Python 3 (ipykernel)",
   "language": "python",
   "name": "python3"
  },
  "language_info": {
   "codemirror_mode": {
    "name": "ipython",
    "version": 3
   },
   "file_extension": ".py",
   "mimetype": "text/x-python",
   "name": "python",
   "nbconvert_exporter": "python",
   "pygments_lexer": "ipython3",
   "version": "3.8.10"
  }
 },
 "nbformat": 4,
 "nbformat_minor": 5
}
