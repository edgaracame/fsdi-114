{
 "cells": [
  {
   "cell_type": "code",
   "execution_count": 19,
   "id": "48d56e43",
   "metadata": {},
   "outputs": [],
   "source": [
    "class Node:\n",
    "    def __init__(self, data):\n",
    "        self.data = data\n",
    "        self.above = None\n",
    "        \n",
    "class Stack:\n",
    "    def __init__(self):\n",
    "        self.base = None\n",
    "        \n",
    "    def push(self, item):\n",
    "        if not self.base:\n",
    "            self.base = Node(item)\n",
    "        else:\n",
    "            current = self.base\n",
    "            while current.above: # while current.above != None\n",
    "                current = current.above\n",
    "            current.above = Node(item)\n",
    "            \n",
    "    def pop(self):\n",
    "        if not self.base:\n",
    "            print(\"There's is nothing to delete\")\n",
    "        if not self.base.above:\n",
    "            data = self.base.data\n",
    "            self.base = None\n",
    "            return data\n",
    "        current = self.base\n",
    "        previous = None\n",
    "        while current.above:\n",
    "            previous = current\n",
    "            current = current.above\n",
    "        data = current.data\n",
    "        previous.above = None\n",
    "        return data\n",
    "        \n",
    "    def is_empty(self):\n",
    "        if not self.base:\n",
    "            return True\n",
    "        return False\n",
    "    \n",
    "    def size(self):\n",
    "        if not self.base:\n",
    "            print(\"The stack is empty\")\n",
    "        else:\n",
    "            count = 1\n",
    "            current = self.base\n",
    "            while current.above:\n",
    "                count += 1\n",
    "                current = current.above\n",
    "            return count\n",
    "    \n",
    "    def peek(self):\n",
    "        if not self.base:\n",
    "            print(\"The stack is empty\")\n",
    "        else:\n",
    "            current = self.base\n",
    "            while current.above:\n",
    "                current = current.above\n",
    "            data = current.data\n",
    "            return data"
   ]
  },
  {
   "cell_type": "code",
   "execution_count": 20,
   "id": "87f0c953",
   "metadata": {},
   "outputs": [],
   "source": [
    "def invert(mystring):\n",
    "    stack = Stack()\n",
    "    out = \"\"\n",
    "    for letter in mystring:\n",
    "        stack.push(letter)\n",
    "    while not stack.is_empty():\n",
    "        out += stack.pop()\n",
    "    return out"
   ]
  },
  {
   "cell_type": "code",
   "execution_count": 21,
   "id": "5c7c2b94",
   "metadata": {},
   "outputs": [
    {
     "data": {
      "text/plain": [
       "'ragdE'"
      ]
     },
     "execution_count": 21,
     "metadata": {},
     "output_type": "execute_result"
    }
   ],
   "source": [
    "invert(\"Edgar\")"
   ]
  },
  {
   "cell_type": "markdown",
   "id": "8d43d79f",
   "metadata": {},
   "source": [
    "# Linked Lists\n",
    "\n",
    "### Linked Lists are data structures composed of nodes in which each node must know the following node's (via a pointer).\n",
    "\n",
    "#### There are two main types of linked lists:\n",
    "\n",
    "1. Singly Linked Lists: Lists that can only be traversed in a single direction.\n",
    "2. Doubly Linked Lists: Lists that can be traversed in two directions (forward and backward)."
   ]
  },
  {
   "cell_type": "code",
   "execution_count": 1,
   "id": "3b34e0ea",
   "metadata": {},
   "outputs": [],
   "source": [
    "class Node:\n",
    "    def __init__(self, data):\n",
    "        self.data = data\n",
    "        self.next = None"
   ]
  },
  {
   "cell_type": "code",
   "execution_count": 7,
   "id": "ca63742c",
   "metadata": {},
   "outputs": [],
   "source": [
    "class SinglyLinkedList:\n",
    "    def __init__(self):\n",
    "        self.head = None\n",
    "        \n",
    "    def append(self, item):\n",
    "        if not self.head:\n",
    "            self.head = Node(item)\n",
    "        else:\n",
    "            current = self.head\n",
    "            while current.next:\n",
    "                current = current.next\n",
    "            current.next = Node(item)\n",
    "            \n",
    "    def __str__(self):\n",
    "        out = \"[\"\n",
    "        if self.head:\n",
    "            out += \"%s\" % self.head.data\n",
    "        current = self.head.next\n",
    "        while current:\n",
    "            out += \", %s\" % current.data\n",
    "            current = current.next\n",
    "        out += \"]\"\n",
    "        return out\n",
    "    \n",
    "    def insert(self, target, item):\n",
    "        pass\n",
    "    \n",
    "    def remove(self, target):\n",
    "        pass"
   ]
  },
  {
   "cell_type": "code",
   "execution_count": 8,
   "id": "26351a5f",
   "metadata": {},
   "outputs": [
    {
     "name": "stdout",
     "output_type": "stream",
     "text": [
      "[1, 2, 3]\n"
     ]
    }
   ],
   "source": [
    "sll = SinglyLinkedList()\n",
    "\n",
    "sll.append(1)\n",
    "sll.append(2)\n",
    "sll.append(3)\n",
    "\n",
    "print(sll)"
   ]
  }
 ],
 "metadata": {
  "kernelspec": {
   "display_name": "Python 3 (ipykernel)",
   "language": "python",
   "name": "python3"
  },
  "language_info": {
   "codemirror_mode": {
    "name": "ipython",
    "version": 3
   },
   "file_extension": ".py",
   "mimetype": "text/x-python",
   "name": "python",
   "nbconvert_exporter": "python",
   "pygments_lexer": "ipython3",
   "version": "3.8.10"
  }
 },
 "nbformat": 4,
 "nbformat_minor": 5
}
