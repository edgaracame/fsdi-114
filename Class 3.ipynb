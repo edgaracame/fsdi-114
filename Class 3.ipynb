{
 "cells": [
  {
   "cell_type": "code",
   "execution_count": 19,
   "id": "48d56e43",
   "metadata": {},
   "outputs": [],
   "source": [
    "class Node:\n",
    "    def __init__(self, data):\n",
    "        self.data = data\n",
    "        self.above = None\n",
    "        \n",
    "class Stack:\n",
    "    def __init__(self):\n",
    "        self.base = None\n",
    "        \n",
    "    def push(self, item):\n",
    "        if not self.base:\n",
    "            self.base = Node(item)\n",
    "        else:\n",
    "            current = self.base\n",
    "            while current.above: # while current.above != None\n",
    "                current = current.above\n",
    "            current.above = Node(item)\n",
    "            \n",
    "    def pop(self):\n",
    "        if not self.base:\n",
    "            raise EmptyStackException(\"There's is nothing to delete\")\n",
    "        if not self.base.above:\n",
    "            data = self.base.data\n",
    "            self.base = None\n",
    "            return data\n",
    "        current = self.base\n",
    "        previous = None\n",
    "        while current.above:\n",
    "            previous = current\n",
    "            current = current.above\n",
    "        data = current.data\n",
    "        previous.above = None\n",
    "        return data\n",
    "        \n",
    "    def is_empty(self):\n",
    "        if not self.base:\n",
    "            return True\n",
    "        return False\n",
    "    \n",
    "    def size(self):\n",
    "        if not self.base:\n",
    "            print(\"The stack is empty\")\n",
    "        else:\n",
    "            count = 1\n",
    "            current = self.base\n",
    "            while current.above:\n",
    "                count += 1\n",
    "                current = current.above\n",
    "            return count\n",
    "    \n",
    "    def peek(self):\n",
    "        if not self.base:\n",
    "            print(\"The stack is empty\")\n",
    "        else:\n",
    "            current = self.base\n",
    "            while current.above:\n",
    "                current = current.above\n",
    "            data = current.data\n",
    "            return data"
   ]
  },
  {
   "cell_type": "code",
   "execution_count": 20,
   "id": "87f0c953",
   "metadata": {},
   "outputs": [],
   "source": [
    "def invert(mystring):\n",
    "    stack = Stack()\n",
    "    out = \"\"\n",
    "    for letter in mystring:\n",
    "        stack.push(letter)\n",
    "    while not stack.is_empty():\n",
    "        out += stack.pop()\n",
    "    return out"
   ]
  },
  {
   "cell_type": "code",
   "execution_count": 21,
   "id": "5c7c2b94",
   "metadata": {},
   "outputs": [
    {
     "data": {
      "text/plain": [
       "'ragdE'"
      ]
     },
     "execution_count": 21,
     "metadata": {},
     "output_type": "execute_result"
    }
   ],
   "source": [
    "invert(\"Edgar\")"
   ]
  },
  {
   "cell_type": "code",
   "execution_count": 22,
   "id": "d7dc0dd1",
   "metadata": {},
   "outputs": [],
   "source": [
    "test = Stack()"
   ]
  },
  {
   "cell_type": "code",
   "execution_count": 23,
   "id": "24d76e34",
   "metadata": {},
   "outputs": [],
   "source": [
    "test.push(1)"
   ]
  },
  {
   "cell_type": "code",
   "execution_count": 24,
   "id": "f66a4799",
   "metadata": {},
   "outputs": [],
   "source": [
    "test.push(2)"
   ]
  },
  {
   "cell_type": "code",
   "execution_count": 25,
   "id": "2019878c",
   "metadata": {},
   "outputs": [],
   "source": [
    "test.push(3)"
   ]
  },
  {
   "cell_type": "code",
   "execution_count": 26,
   "id": "e4431d68",
   "metadata": {},
   "outputs": [
    {
     "data": {
      "text/plain": [
       "3"
      ]
     },
     "execution_count": 26,
     "metadata": {},
     "output_type": "execute_result"
    }
   ],
   "source": [
    "test.size()"
   ]
  },
  {
   "cell_type": "code",
   "execution_count": 27,
   "id": "2f32b2ae",
   "metadata": {},
   "outputs": [
    {
     "data": {
      "text/plain": [
       "3"
      ]
     },
     "execution_count": 27,
     "metadata": {},
     "output_type": "execute_result"
    }
   ],
   "source": [
    "test.peek()"
   ]
  },
  {
   "cell_type": "code",
   "execution_count": 28,
   "id": "d4d57191",
   "metadata": {},
   "outputs": [
    {
     "data": {
      "text/plain": [
       "3"
      ]
     },
     "execution_count": 28,
     "metadata": {},
     "output_type": "execute_result"
    }
   ],
   "source": [
    "test.pop()"
   ]
  },
  {
   "cell_type": "code",
   "execution_count": 29,
   "id": "4c3efa7f",
   "metadata": {},
   "outputs": [
    {
     "data": {
      "text/plain": [
       "2"
      ]
     },
     "execution_count": 29,
     "metadata": {},
     "output_type": "execute_result"
    }
   ],
   "source": [
    "test.peek()"
   ]
  },
  {
   "cell_type": "code",
   "execution_count": 30,
   "id": "07ea0985",
   "metadata": {},
   "outputs": [
    {
     "data": {
      "text/plain": [
       "2"
      ]
     },
     "execution_count": 30,
     "metadata": {},
     "output_type": "execute_result"
    }
   ],
   "source": [
    "test.size()"
   ]
  }
 ],
 "metadata": {
  "kernelspec": {
   "display_name": "Python 3 (ipykernel)",
   "language": "python",
   "name": "python3"
  },
  "language_info": {
   "codemirror_mode": {
    "name": "ipython",
    "version": 3
   },
   "file_extension": ".py",
   "mimetype": "text/x-python",
   "name": "python",
   "nbconvert_exporter": "python",
   "pygments_lexer": "ipython3",
   "version": "3.8.10"
  }
 },
 "nbformat": 4,
 "nbformat_minor": 5
}
