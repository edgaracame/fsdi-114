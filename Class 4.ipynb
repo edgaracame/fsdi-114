{
 "cells": [
  {
   "cell_type": "code",
   "execution_count": 4,
   "id": "418bfe01",
   "metadata": {},
   "outputs": [],
   "source": [
    "class Node:\n",
    "    def __init__(self, data):\n",
    "        self.data = data\n",
    "        self.next = None"
   ]
  },
  {
   "cell_type": "code",
   "execution_count": 15,
   "id": "b6203f09",
   "metadata": {},
   "outputs": [],
   "source": [
    "class SinglyLinkedList:\n",
    "    def __init__(self):\n",
    "        self.head = None\n",
    "        \n",
    "    def append(self, item):\n",
    "        if not self.head:\n",
    "            self.head = Node(item)\n",
    "        else:\n",
    "            current = self.head\n",
    "            while current.next:\n",
    "                current = current.next\n",
    "            current.next = Node(item)\n",
    "            \n",
    "    def __str__(self):\n",
    "        out = \"[\"\n",
    "        if self.head:\n",
    "            out += \"%s\" % self.head.data\n",
    "        current = self.head.next\n",
    "        while current:\n",
    "            out += \", %s\" % current.data\n",
    "            current = current.next\n",
    "        out += \"]\"\n",
    "        return out\n",
    "    \n",
    "    def insert(self, index, item):\n",
    "        if not self.head:\n",
    "            self.head = Node(item)\n",
    "        else:\n",
    "            if index == 0:\n",
    "                node = Node(item)\n",
    "                temp = self.head\n",
    "                self.head = node\n",
    "                self.head.next = temp\n",
    "            else:\n",
    "                current = self.head\n",
    "                prev = None\n",
    "                counter = 0\n",
    "                while current.next and counter != index:\n",
    "                    prev = current\n",
    "                    current = current.next\n",
    "                    counter = counter + 1\n",
    "                if counter == index:\n",
    "                    node = Node(item)\n",
    "                    prev.next = node\n",
    "                    node.next = current\n",
    "                else:\n",
    "                    node = Node(item)\n",
    "                    current.next = node\n",
    "    \n",
    "    def remove(self, target):\n",
    "        current = self.head\n",
    "        previous = None\n",
    "        if not self.head:\n",
    "            raise ValueError(\"The list is empty\")\n",
    "        else:\n",
    "            while current.next and current.data != target:\n",
    "                previous = current\n",
    "                current = current.next\n",
    "            if current.data == target:\n",
    "                if current.next:\n",
    "                    previous.next = current.next\n",
    "                else:\n",
    "                    self.head = None\n",
    "            else:\n",
    "                raise ValueError(\"The target is not present\")"
   ]
  },
  {
   "cell_type": "code",
   "execution_count": 25,
   "id": "b87b657e",
   "metadata": {},
   "outputs": [
    {
     "name": "stdout",
     "output_type": "stream",
     "text": [
      "[1, 2, 3]\n",
      "[0, 1, 2, 3]\n",
      "[0, 1, 1.5, 2, 3]\n",
      "[0, 1, 1.5, 2, 3, 4]\n",
      "[0, 1, 2, 3, 4]\n"
     ]
    }
   ],
   "source": [
    "# mylist = [1, 2, 3]\n",
    "\n",
    "sll = SinglyLinkedList()\n",
    "for number in range(1, 4):\n",
    "    sll.append(number) \n",
    "print(sll)\n",
    "\n",
    "# mylist.insert(0, 0)\n",
    "\n",
    "sll.insert(0, 0)\n",
    "print(sll)\n",
    "\n",
    "# mylist.insert(2, 1.5)\n",
    "\n",
    "sll.insert(2, 1.5)\n",
    "print(sll)\n",
    "\n",
    "# mylist.insert(1000, 4)\n",
    "\n",
    "sll.insert(1000, 4)\n",
    "print(sll)\n",
    "\n",
    "# mylist.remove(1.5)\n",
    "\n",
    "sll.remove(1.5)\n",
    "print(sll)"
   ]
  },
  {
   "cell_type": "code",
   "execution_count": 41,
   "id": "d7f2a7e7",
   "metadata": {},
   "outputs": [],
   "source": [
    "class DNode:\n",
    "    def __init__(self, data):\n",
    "        self.data = data\n",
    "        self.next = None\n",
    "        self.previous = None\n",
    "        \n",
    "class DoublyLinkedList:\n",
    "    def __init__(self):\n",
    "        self.head = None\n",
    "        \n",
    "    def __str__(self):\n",
    "        out = \"[\"\n",
    "        if self.head:\n",
    "            out += \"%s\" % self.head.data\n",
    "        current = self.head.next\n",
    "        while current:\n",
    "            out += \", %s\" % current.data\n",
    "            current = current.next\n",
    "        out += \"]\"\n",
    "        return out\n",
    "        \n",
    "    def append(self, value):\n",
    "        if not self.head:\n",
    "            self.head = DNode(value)\n",
    "        else:\n",
    "            current = self.head\n",
    "            while current.next:\n",
    "                current = current.next\n",
    "            node = DNode(value)\n",
    "            current.next = node\n",
    "            node.prev = current\n",
    "    \n",
    "    def insert(self, index, value):\n",
    "        if not self.head:\n",
    "            self.head = DNode(value)\n",
    "        else:\n",
    "            if index == 0:\n",
    "                node = DNode(value)\n",
    "                temp = self.head\n",
    "                self.head = node\n",
    "                self.head.next = temp\n",
    "                self.head.previous = None\n",
    "                temp.previous = self.head\n",
    "            else:\n",
    "                current = self.head\n",
    "                previous = None\n",
    "                counter = 0\n",
    "                while current.next and counter != index:\n",
    "                    previous = current\n",
    "                    current = current.next\n",
    "                    counter += 1\n",
    "                if counter == index:\n",
    "                    node = DNode(value)\n",
    "                    previous.next = node\n",
    "                    node.previous = previous\n",
    "                    node.next = current\n",
    "                    current.previous = node\n",
    "                else:\n",
    "                    node = DNode(value)\n",
    "                    previous.next = node\n",
    "                    node.previous = previous\n",
    "                    node.next = None\n",
    "    \n",
    "    def remove(self, value):\n",
    "        current = self.head\n",
    "        while current.next and current.data != value:\n",
    "            current = current.next\n",
    "        if current.data == value:\n",
    "            if current.prev:\n",
    "                temp = current.prev\n",
    "                temp.next = current.next\n",
    "                next_node = current.next\n",
    "                next_node.prev = temp\n",
    "            else:\n",
    "                if not current.next:\n",
    "                    self.head = None\n",
    "                else:\n",
    "                    self.head = current.next\n",
    "                    self.head.prev = None\n",
    "        else:\n",
    "            raise ValueError(\"The target value is not present\")\n",
    "    \n",
    "    def size(self):\n",
    "        current = self.head\n",
    "        counter = 0\n",
    "        if not self.head:\n",
    "            raise ValueError(\"The list is empty\")\n",
    "        else:\n",
    "            while current.next:\n",
    "                current = current.next\n",
    "                counter += 1\n",
    "        return counter\n",
    "    \n",
    "    def index(self, value):\n",
    "        current = self.head\n",
    "        counter = 0\n",
    "        while current.next and value != current.data:\n",
    "            current = current.next\n",
    "            counter += 1\n",
    "        if value == current.data:\n",
    "            return counter\n",
    "        else:\n",
    "            raise ValueError(\"The target is not present\")"
   ]
  },
  {
   "cell_type": "code",
   "execution_count": 62,
   "id": "d2b53b9c",
   "metadata": {},
   "outputs": [
    {
     "name": "stdout",
     "output_type": "stream",
     "text": [
      "[0, 1, 2, 3, 4, 5, 6, 7, 8, 9]\n"
     ]
    }
   ],
   "source": [
    "dll = DoublyLinkedList()\n",
    "\n",
    "for i in range(10):\n",
    "    dll.append(i)\n",
    "print(dll)"
   ]
  },
  {
   "cell_type": "code",
   "execution_count": 63,
   "id": "55221bc1",
   "metadata": {},
   "outputs": [
    {
     "data": {
      "text/plain": [
       "3"
      ]
     },
     "execution_count": 63,
     "metadata": {},
     "output_type": "execute_result"
    }
   ],
   "source": [
    "dll.index(3)"
   ]
  },
  {
   "cell_type": "code",
   "execution_count": 64,
   "id": "fb3ad1ea",
   "metadata": {},
   "outputs": [
    {
     "data": {
      "text/plain": [
       "10"
      ]
     },
     "execution_count": 64,
     "metadata": {},
     "output_type": "execute_result"
    }
   ],
   "source": [
    "dll.append(50)\n",
    "dll.index(50)"
   ]
  },
  {
   "cell_type": "code",
   "execution_count": 65,
   "id": "e07cb537",
   "metadata": {},
   "outputs": [
    {
     "data": {
      "text/plain": [
       "10"
      ]
     },
     "execution_count": 65,
     "metadata": {},
     "output_type": "execute_result"
    }
   ],
   "source": [
    "dll.size()"
   ]
  },
  {
   "cell_type": "code",
   "execution_count": 66,
   "id": "8f161924",
   "metadata": {},
   "outputs": [
    {
     "data": {
      "text/plain": [
       "12"
      ]
     },
     "execution_count": 66,
     "metadata": {},
     "output_type": "execute_result"
    }
   ],
   "source": [
    "dll.append(100)\n",
    "dll.append(1000)\n",
    "dll.size()"
   ]
  },
  {
   "cell_type": "code",
   "execution_count": 67,
   "id": "f5c2408c",
   "metadata": {},
   "outputs": [
    {
     "name": "stdout",
     "output_type": "stream",
     "text": [
      "[0, 1, 2, 3, 4, 5, 6, 7, 8, 9, 50, 100, 1000]\n",
      "[0, 1, 500, 2, 3, 4, 5, 6, 7, 8, 9, 50, 100, 1000]\n",
      "[0, 1, 500, 2, 3, 4, 0, 5, 6, 7, 8, 9, 50, 100, 1000]\n"
     ]
    }
   ],
   "source": [
    "print(dll)\n",
    "\n",
    "dll.insert(2, 500)\n",
    "print(dll)\n",
    "\n",
    "dll.insert(6, 0)\n",
    "print(dll)"
   ]
  },
  {
   "cell_type": "code",
   "execution_count": 68,
   "id": "d25fa39d",
   "metadata": {},
   "outputs": [
    {
     "name": "stdout",
     "output_type": "stream",
     "text": [
      "[0, 1, 500, 2, 3, 4, 0, 5, 6, 7, 8, 9, 50, 100, 1]\n"
     ]
    }
   ],
   "source": [
    "dll.insert(1000, 1)\n",
    "print(dll)"
   ]
  }
 ],
 "metadata": {
  "kernelspec": {
   "display_name": "Python 3 (ipykernel)",
   "language": "python",
   "name": "python3"
  },
  "language_info": {
   "codemirror_mode": {
    "name": "ipython",
    "version": 3
   },
   "file_extension": ".py",
   "mimetype": "text/x-python",
   "name": "python",
   "nbconvert_exporter": "python",
   "pygments_lexer": "ipython3",
   "version": "3.8.10"
  }
 },
 "nbformat": 4,
 "nbformat_minor": 5
}
